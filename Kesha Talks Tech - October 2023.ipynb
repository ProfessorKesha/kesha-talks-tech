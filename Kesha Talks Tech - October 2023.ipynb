{
 "cells": [
  {
   "cell_type": "markdown",
   "id": "18b583b4",
   "metadata": {},
   "source": [
    "![Newsletter Cover Image](octlogo.png)"
   ]
  },
  {
   "cell_type": "markdown",
   "id": "90466855",
   "metadata": {},
   "source": [
    "This is the repository for my [Kesha Talks Tech](https://www.linkedin.com/build-relation/newsletter-follow?entityUrn=6759568448176578560) monthly LinkedIn newsletter. [Subscribe](https://www.linkedin.com/build-relation/newsletter-follow?entityUrn=6759568448176578560) to the newsletter to stay up to date on the latest trends in tech.\n",
    "\n",
    "## Installing\n",
    "1. To use this notebook, you must have the following installed:\n",
    "\t- Jupyter Notebook environment in the cloud or locally, with the necessary libraries installed\n",
    "2. Clone this repository to your local machine using the terminal (Mac), CMD (Windows), or a GUI tool like SourceTree.\n",
    "3. Sign up for an OpenAI account and generate an API key. The API key provides access to the OpenAI API and Python Library.\n",
    "\n",
    "### Author\n",
    "\n",
    "[Kesha Williams](https://www.linkedin.com/in/java-rock-star-kesha/)\n",
    "        \n",
    "Check out my courses on [LinkedIn Learning](https://www.linkedin.com/learning/instructors/kesha-williams).\n",
    "</p>"
   ]
  },
  {
   "cell_type": "markdown",
   "id": "b4caffe1",
   "metadata": {},
   "source": [
    "#### Install the necessary libraries"
   ]
  },
  {
   "cell_type": "code",
   "execution_count": null,
   "id": "509b1e08",
   "metadata": {},
   "outputs": [],
   "source": [
    "pip install openai"
   ]
  },
  {
   "cell_type": "code",
   "execution_count": null,
   "id": "fc97f3ef",
   "metadata": {},
   "outputs": [],
   "source": [
    "pip install openai[datalib]"
   ]
  },
  {
   "cell_type": "code",
   "execution_count": null,
   "id": "5584c760",
   "metadata": {},
   "outputs": [],
   "source": [
    "pip install urllib3==1.26.6 "
   ]
  },
  {
   "cell_type": "code",
   "execution_count": null,
   "id": "f1621606",
   "metadata": {},
   "outputs": [],
   "source": [
    "pip install python-dotenv"
   ]
  },
  {
   "cell_type": "markdown",
   "id": "9e6cc16f",
   "metadata": {},
   "source": [
    "### Import the libraries and enviornment file to gain access to the OpenAI API Key\n",
    "#### The key can be generated here: https://platform.openai.com/account/api-keys"
   ]
  },
  {
   "cell_type": "code",
   "execution_count": 2,
   "id": "fd8d1ec2",
   "metadata": {},
   "outputs": [],
   "source": [
    "import os\n",
    "import openai\n",
    "\n",
    "\n",
    "from dotenv import load_dotenv, find_dotenv\n",
    "_ = load_dotenv(find_dotenv()) # read local .env file"
   ]
  },
  {
   "cell_type": "markdown",
   "id": "9d3964d6",
   "metadata": {},
   "source": [
    "### Authenticate to the API using the API Key\n",
    "#### Pull from environment variables or use openai.api_key = (\"your_key_here\") to hardcode the key"
   ]
  },
  {
   "cell_type": "code",
   "execution_count": 4,
   "id": "0af16d2f",
   "metadata": {},
   "outputs": [],
   "source": [
    "openai.api_key = os.getenv(\"OPENAI_API_KEY\") #TODO Replace with your OpenAI API key"
   ]
  },
  {
   "cell_type": "markdown",
   "id": "15ac0906",
   "metadata": {},
   "source": [
    "### Generate output using GPT-3"
   ]
  },
  {
   "cell_type": "code",
   "execution_count": 19,
   "id": "45b7db17",
   "metadata": {},
   "outputs": [
    {
     "name": "stdout",
     "output_type": "stream",
     "text": [
      "\n",
      "\n",
      "Rex, a friendly Labrador, loved nothing more than running in the park\n",
      "Total tokens:  32\n"
     ]
    }
   ],
   "source": [
    "completion = openai.Completion.create(\n",
    "    model=\"text-davinci-003\",\n",
    "    prompt=\"Write a short story about a dog named Rex who enjoys running in the park.\"\n",
    ")\n",
    "\n",
    "print(completion.choices[0].text)\n",
    "print(\"Total tokens: \", completion.usage.total_tokens)"
   ]
  },
  {
   "cell_type": "markdown",
   "id": "c96201f2",
   "metadata": {},
   "source": [
    "### Generate output using GPT-3.5"
   ]
  },
  {
   "cell_type": "code",
   "execution_count": 20,
   "id": "099d20d1",
   "metadata": {},
   "outputs": [
    {
     "name": "stdout",
     "output_type": "stream",
     "text": [
      "Once upon a time in a small town, there lived a joyful Golden Retriever named Rex. Rex loved exploring, playing, and most of all, running freely in the park. Every morning, Rex would eagerly await his owner, Mr. Johnson, to leash him up before setting off for their daily adventure.\n",
      "\n",
      "As soon as they arrived at the park, Rex's tail would wag vigorously, expressing his excitement. Mr. Johnson would unclip Rex's leash, and with a burst of energy, Rex would sprint ahead, his sandy fur glistening under the warm sunlight.\n",
      "\n",
      "Rex's athletic prowess was legendary among the local community. With every bounding stride, his paws seemed to barely touch the ground. Children would cheer him on, calling his name as he gracefully leaped over fallen logs and raced alongside bicycles. His enthusiasm was infectious, and people from all walks of life found themselves in awe of his agility.\n",
      "\n",
      "One particular summer morning, as Rex dashed through the park, he noticed a small, timid puppy named Daisy trying to keep up with him. Daisy's wide, innocent eyes sparkled with a mixture of admiration and longing. Rex slowed down, realizing that she could not match his speed.\n",
      "\n",
      "Refusing to leave Daisy in the dust, Rex made a decision. He gently nudged her, using his body as a guide. Daisy hesitated at first, unsure if she would be able to catch up, but with Rex's encouragement, she found her stride.\n",
      "\n",
      "Together, Rex and Daisy embarked on a new adventure. They sprinted along winding trails, chasing butterflies and sniffing every blade of grass in their path. The once-shy Daisy began to gain confidence, matching Rex's every bound with determination.\n",
      "\n",
      "Word of their dynamic duo spread throughout the town, and soon enough, more dogs joined in the fun. Rex became a symbol of unity, bringing together a diverse pack of four-legged friends. Each morning, more and more dogs would eagerly make their way to the park, knowing they would be greeted by Rex's contagious zest for life.\n",
      "\n",
      "Rex's joy knew no bounds, as he reveled in the happiness he helped foster among his fellow canines. The park transformed into a lively, vibrant sanctuary, filled with laughter, barks, and wagging tails.\n",
      "\n",
      "The townspeople embraced this newfound connection among their beloved pets, arranging events and gatherings to celebrate their shared love for dogs and the remarkable bond they formed through Rex's inspiration. The park became a hub of harmony, where dogs and their owners would gather to build lasting friendships.\n",
      "\n",
      "And so, Rex continued to run in the park, but his true legacy wasn't just about his remarkable speed and agility. It was about his ability to bring joy, unity, and love to all those who crossed his path. For Rex, the park was not just a place to run, but a conduit to create meaningful connections and leave an everlasting trail of happiness in his wake.\n",
      "Total tokens:   622\n"
     ]
    }
   ],
   "source": [
    "completion = openai.ChatCompletion.create(\n",
    "        model=\"gpt-3.5-turbo\",\n",
    "        messages=[\n",
    "            {\"role\": \"system\", \"content\": \"You are a master storyteller.\"},\n",
    "            {\"role\": \"user\", \"content\": \"Write a short story about a dog named Rex who enjoys running in the park.\"},\n",
    "        ]\n",
    "    )\n",
    "\n",
    "print(completion.choices[0].message.content)\n",
    "print(\"Total tokens:  \", completion.usage.total_tokens)"
   ]
  },
  {
   "cell_type": "markdown",
   "id": "2f7cf2e0",
   "metadata": {},
   "source": [
    "### Generate output using GPT-4"
   ]
  },
  {
   "cell_type": "code",
   "execution_count": 21,
   "id": "e8905641",
   "metadata": {},
   "outputs": [
    {
     "name": "stdout",
     "output_type": "stream",
     "text": [
      "Once upon a time, in the heartland of a city vibrant with life and laughter, embodied the sturdy yet graceful form of a Golden Retriever named Rex. This wasn't just any Golden Retriever though, for Rex boasted a personality as golden as his fur. He loved nothing more than the simple pleasure of running in the neighboring park.\n",
      "\n",
      "Every morning, as the sun awoke and painted the sky with hues of a new day, Rex would awaken in sync. With each stretch, the exciting thoughts of the upcoming run would ignite his eyes with joy. Thumping his tail merrily against the wooden floor panels, he would eagerly wait for his master to fasten his leash.\n",
      "\n",
      "As soon as his paws touched the grassy fields of the park, an energy indefinable surged through his body. Ears perked up, tail wagging like the rhythm of a joyful tune, he would sprint, leaving the world behind. The wind breaking against his fur, the different colors of the park whirring past him, he felt alive and content.\n",
      "\n",
      "Every tree Rex passed, every flower he sniffed, told him a different story. The park was not just a playground for him, but a treasure of new experiences and explorations. He loved to chase the squirrels hurriedly climbing up the trees, trying his best to have a playful confrontation with the birds, which never seemed to sit on the ground long enough.\n",
      "\n",
      "The other dogs in the park would join Rex in his playful adventures. Different breeds, various sizes, all dissimilar yet united by their fervor for fun; they were his buddies, his pack. Together they would play fetch, chase each other's tails, and perform all sorts of antics that filled the park with echoes of resounding barks and panting laughter.\n",
      "\n",
      "On some days, Rex would slow down his pace, allowing the world to catch up. He would sit by the calm pond, watching the ducks paddle serenely, a respite from the everyday race. The soft rustle of leaves overhead, the occasional splash of a fish, lulled him in a peaceful trance.\n",
      "\n",
      "As sunset approached, the park would be washed in a mellow light. This was when Rex loved to return to his master's side and just lay his head down on his feet, awaiting the leash's familiar click. Even as he sauntered back home, he would take one last look at his beloved park, dreaming of another day full of bounding energy and canine frolic.\n",
      "\n",
      "Rex may have been just a dog to many, but for those who knew him, he was a testament to the boundless joy that lay in the simple pleasures of life. A dog whose spirit was as wild and free as the wind he loved rushing against, and whose love for the park was as deep and enduring as the tracks he left behind. His undying enthusiasm was a reminder of the happiness that freely playing under the open sky evokes, proving that sometimes, the simplest joys are indeed the greatest ones.\n",
      "Total tokens:   642\n"
     ]
    }
   ],
   "source": [
    "completion = openai.ChatCompletion.create(\n",
    "        model=\"gpt-4\",\n",
    "        messages=[\n",
    "            {\"role\": \"system\", \"content\": \"You are a master storyteller\"},\n",
    "            {\"role\": \"user\", \"content\": \"Write a short story about a dog named Rex who enjoys running in the park.\"},\n",
    "        ]\n",
    "    )\n",
    "\n",
    "print(completion.choices[0].message.content)\n",
    "print(\"Total tokens:  \", completion.usage.total_tokens)"
   ]
  },
  {
   "cell_type": "code",
   "execution_count": null,
   "id": "4ad1a2f3",
   "metadata": {},
   "outputs": [],
   "source": []
  }
 ],
 "metadata": {
  "kernelspec": {
   "display_name": "Python 3 (ipykernel)",
   "language": "python",
   "name": "python3"
  },
  "language_info": {
   "codemirror_mode": {
    "name": "ipython",
    "version": 3
   },
   "file_extension": ".py",
   "mimetype": "text/x-python",
   "name": "python",
   "nbconvert_exporter": "python",
   "pygments_lexer": "ipython3",
   "version": "3.8.9"
  }
 },
 "nbformat": 4,
 "nbformat_minor": 5
}
