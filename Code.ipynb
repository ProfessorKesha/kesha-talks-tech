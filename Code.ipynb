{
 "cells": [
  {
   "cell_type": "markdown",
   "id": "2b062c49",
   "metadata": {},
   "source": [
    "![Newsletter Cover Image](septlogo3.png)"
   ]
  },
  {
   "attachments": {},
   "cell_type": "markdown",
   "id": "a17796b0",
   "metadata": {},
   "source": [
    "This is the repository for my [Kesha Talks Tech](https://www.linkedin.com/build-relation/newsletter-follow?entityUrn=6759568448176578560) monthly LinkedIn newsletter. [Subscribe](https://www.linkedin.com/build-relation/newsletter-follow?entityUrn=6759568448176578560) to the newsletter to stay up to date on the latest trends in tech.\n",
    "\n",
    "## Installing\n",
    "1. To use this notebook, you must have the following installed:\n",
    "\t- Jupyter Notebook environment in the cloud or locally, with the necessary libraries installed\n",
    "2. Clone this repository to your local machine using the terminal (Mac), CMD (Windows), or a GUI tool like SourceTree.\n",
    "3. Sign up for an OpenAI account and generate an API key. The API key provides access to the OpenAI API and Python Library.\n",
    "\n",
    "### Author\n",
    "\n",
    "[Kesha Williams](https://www.linkedin.com/in/java-rock-star-kesha/)\n",
    "        \n",
    "Check out my courses on [LinkedIn Learning](https://www.linkedin.com/learning/instructors/kesha-williams).\n",
    "</p>"
   ]
  },
  {
   "cell_type": "markdown",
   "id": "b4caffe1",
   "metadata": {},
   "source": [
    "#### Install the necessary libraries"
   ]
  },
  {
   "cell_type": "code",
   "execution_count": null,
   "id": "509b1e08",
   "metadata": {},
   "outputs": [],
   "source": [
    "pip install openai"
   ]
  },
  {
   "cell_type": "code",
   "execution_count": null,
   "id": "fc97f3ef",
   "metadata": {},
   "outputs": [],
   "source": [
    "pip install openai[datalib]"
   ]
  },
  {
   "cell_type": "code",
   "execution_count": null,
   "id": "5584c760",
   "metadata": {},
   "outputs": [],
   "source": [
    "pip install urllib3==1.26.6 "
   ]
  },
  {
   "cell_type": "code",
   "execution_count": null,
   "id": "f1621606",
   "metadata": {},
   "outputs": [],
   "source": [
    "pip install python-dotenv"
   ]
  },
  {
   "cell_type": "markdown",
   "id": "9e6cc16f",
   "metadata": {},
   "source": [
    "### Import the libraries and enviornment file to gain access to the OpenAI API Key\n",
    "#### The key can be generated here: https://platform.openai.com/account/api-keys"
   ]
  },
  {
   "cell_type": "code",
   "execution_count": 30,
   "id": "fd8d1ec2",
   "metadata": {},
   "outputs": [],
   "source": [
    "import os\n",
    "import openai\n",
    "\n",
    "\n",
    "from dotenv import load_dotenv, find_dotenv\n",
    "_ = load_dotenv(find_dotenv()) # read local .env file"
   ]
  },
  {
   "cell_type": "markdown",
   "id": "9d3964d6",
   "metadata": {},
   "source": [
    "### Authenticate to the API using the API Key\n",
    "#### Pull from environment variables or use openai.api_key = (\"your_key_here\") to hardcode the key"
   ]
  },
  {
   "cell_type": "code",
   "execution_count": 31,
   "id": "0af16d2f",
   "metadata": {},
   "outputs": [],
   "source": [
    "openai.api_key = os.getenv(\"OPENAI_API_KEY\") #TODO Replace with your OpenAI API key"
   ]
  },
  {
   "cell_type": "code",
   "execution_count": 32,
   "id": "116a4cc1",
   "metadata": {},
   "outputs": [],
   "source": [
    "def get_completion_from_messages(messages):\n",
    "    try:\n",
    "        response = openai.ChatCompletion.create(\n",
    "            model=\"gpt-3.5-turbo\",\n",
    "            messages=messages\n",
    "        )\n",
    "        \n",
    "        return response\n",
    "    except openai.error.OpenAIError as e:\n",
    "        print(e.http_status)\n",
    "        print(e.error)\n",
    "        return e.error "
   ]
  },
  {
   "cell_type": "code",
   "execution_count": 33,
   "id": "d6a54692",
   "metadata": {},
   "outputs": [],
   "source": [
    "def build_prompt(prompt):\n",
    "    messages =  [  \n",
    "        {'role':'system', \n",
    "                 'content': '''You are a helpful AI assistant.'''},    \n",
    "        {'role':'user', \n",
    "                 'content': prompt},  \n",
    "    ] \n",
    "    \n",
    "    return get_completion_from_messages(messages) "
   ]
  },
  {
   "cell_type": "markdown",
   "id": "4db753a2",
   "metadata": {},
   "source": [
    "## Prompt Examples"
   ]
  },
  {
   "cell_type": "code",
   "execution_count": 35,
   "id": "35b9b3ee",
   "metadata": {},
   "outputs": [
    {
     "name": "stdout",
     "output_type": "stream",
     "text": [
      "Of course! I'd be happy to help you write a blog post about the coolest tech gadgets of 2023. Here's a possible structure to get you started:\n",
      "\n",
      "Title: The Coolest Tech Gadgets of 2023: Embracing the Future\n",
      "\n",
      "Introduction:\n",
      "- Start with an attention-grabbing introduction to pique readers' interest in the latest tech gadgets.\n",
      "- Highlight how technology is advancing at an incredible pace, making our lives more efficient, entertaining, and connected.\n",
      "\n",
      "1. Smart Home Helpers:\n",
      "- Discuss the evolution of smart home devices and how they have become an integral part of households.\n",
      "- Introduce the latest smart home gadgets, such as advanced voice assistants that can automate various tasks and control multiple devices.\n",
      "- Mention the integration of Artificial Intelligence (AI) and Machine Learning (ML) to enhance these gadgets.\n",
      "\n",
      "2. Virtual Reality (VR) Revolution:\n",
      "- Explain how VR technology has moved beyond gaming and is now being utilized in various industries.\n",
      "- Highlight the latest VR gadgets that provide immersive experiences, such as updated headsets with improved resolution and lighter designs.\n",
      "- Discuss the integration of VR technology in fields like education, healthcare, and architecture.\n",
      "\n",
      "3. Wearable Tech:\n",
      "- Discuss the rise in popularity of wearable gadgets and their impact on personal health and fitness.\n",
      "- Highlight innovative wearable devices like smartwatches that can monitor vital signs and provide real-time feedback for personalized fitness routines.\n",
      "- Touch upon advancements in the fashion industry, where tech-infused clothing and accessories are seamlessly blending style and functionality.\n",
      "\n",
      "4. Cutting-Edge Mobile Devices:\n",
      "- Explore the latest trends in mobile technology, such as foldable smartphones that offer larger screens without compromising portability.\n",
      "- Discuss the integration of 5G technology, enabling faster internet speeds and enhanced connectivity.\n",
      "- Highlight how mobile devices have become essential tools for communication, productivity, and entertainment.\n",
      "\n",
      "5. Future of Transportation:\n",
      "- Explore the advancements in electric vehicles (EVs) and autonomous driving technologies.\n",
      "- Discuss the emergence of electric scooters, self-balancing bikes, and other eco-friendly personal mobility gadgets.\n",
      "- Mention the integration of smart features in vehicles, such as voice-controlled assistants, wireless charging, and advanced safety systems.\n",
      "\n",
      "Conclusion:\n",
      "- Summarize the exciting tech gadgets of 2023 and the impact they are expected to have on our daily lives.\n",
      "- Emphasize how these devices are pushing the boundaries of innovation and bringing us closer to a more connected and convenient future.\n",
      "\n",
      "Remember to include captivating visuals and links to additional resources or product websites to provide a more comprehensive experience for your readers.\n"
     ]
    }
   ],
   "source": [
    "response = build_prompt('''Hey ChatGPT, can you help me write \n",
    "                a blog post about the coolest tech gadgets of 2023?''')\n",
    "\n",
    "print(response.choices[0].message.content)"
   ]
  },
  {
   "cell_type": "code",
   "execution_count": 37,
   "id": "85c1e2bd",
   "metadata": {},
   "outputs": [
    {
     "name": "stdout",
     "output_type": "stream",
     "text": [
      "Bien sûr! Je serai heureux de vous aider avec la traduction en français. Veuillez me fournir le texte que vous souhaitez traduire.\n"
     ]
    }
   ],
   "source": [
    "response = build_prompt(''' Hola ChatGPT, could you translate this into French \n",
    "                for me, s'il vous plaît?  ''')\n",
    "\n",
    "print(response.choices[0].message.content)"
   ]
  },
  {
   "cell_type": "code",
   "execution_count": 39,
   "id": "d7564e4f",
   "metadata": {},
   "outputs": [
    {
     "name": "stdout",
     "output_type": "stream",
     "text": [
      "Of course! I can definitely help you with that. Here's a Python script that organizes photos in a directory by their creation date:\n",
      "\n",
      "```python\n",
      "import os\n",
      "import datetime\n",
      "import shutil\n",
      "\n",
      "def organize_photos(directory):\n",
      "    # Create a new directory to store organized photos\n",
      "    organized_directory = os.path.join(directory, 'OrganizedPhotos')\n",
      "    os.makedirs(organized_directory, exist_ok=True)\n",
      "    \n",
      "    # Get all the files in the directory\n",
      "    files = os.listdir(directory)\n",
      "    \n",
      "    for file in files:\n",
      "        try:\n",
      "            # Get the creation date of the file\n",
      "            creation_time = os.path.getctime(os.path.join(directory, file))\n",
      "            creation_date = datetime.datetime.fromtimestamp(creation_time)\n",
      "            \n",
      "            # Create a new directory for the year and month\n",
      "            year = str(creation_date.year)\n",
      "            month = str(creation_date.month).zfill(2)\n",
      "            year_month_directory = os.path.join(organized_directory, year, month)\n",
      "            os.makedirs(year_month_directory, exist_ok=True)\n",
      "            \n",
      "            # Move the file to the year and month directory\n",
      "            shutil.move(os.path.join(directory, file), os.path.join(year_month_directory, file))\n",
      "            \n",
      "            print(f\"Moved {file} to {year}/{month}\")\n",
      "        except Exception as e:\n",
      "            print(f\"Failed to process file {file}: {e}\")\n",
      "\n",
      "# Specify the directory containing the photos\n",
      "photos_directory = 'path/to/photos'\n",
      "\n",
      "organize_photos(photos_directory)\n",
      "```\n",
      "\n",
      "Make sure to replace `'path/to/photos'` with the actual path to your photos directory. When you run this script, it will create a new directory called \"OrganizedPhotos\" within your specified photos directory. Inside the OrganizedPhotos directory, the script will create subdirectories based on the year and month of each photo's creation date. The photos will then be moved to their respective year and month directories.\n"
     ]
    }
   ],
   "source": [
    "response = build_prompt(''' ChatGPT, I need a Python script to organize my photos by \n",
    "                date. Can you help?''')\n",
    "\n",
    "print(response.choices[0].message.content)"
   ]
  },
  {
   "cell_type": "code",
   "execution_count": 40,
   "id": "37c9e621",
   "metadata": {},
   "outputs": [
    {
     "name": "stdout",
     "output_type": "stream",
     "text": [
      "The capital of Jamaica is Kingston.\n"
     ]
    }
   ],
   "source": [
    "response = build_prompt(''' What is the capital of Kesha's favorite place \n",
    "                            in the world, Jamaica?''')\n",
    "\n",
    "print(response.choices[0].message.content)"
   ]
  },
  {
   "cell_type": "code",
   "execution_count": 41,
   "id": "602944fc",
   "metadata": {},
   "outputs": [
    {
     "name": "stdout",
     "output_type": "stream",
     "text": [
      "LinkedIn Learning is an online platform that offers courses in business, technology, and creative skills. It has over 5,000 courses and provides personalized recommendations. Users can add completed courses and skills to their LinkedIn profile. Subscribers have access to the entire library, can post completed courses on their profile, and receive recommendations based on their interests. The platform also includes exercise files, assessments, transcripts, and allows users to provide feedback and download videos for offline viewing.\n"
     ]
    }
   ],
   "source": [
    "response = build_prompt(''' Summarize the following text: \n",
    "                \n",
    "                        LinkedIn Learning is an online educational platform that \n",
    "                        helps you discover and develop business, technology-related, \n",
    "                        and creative skills through expert-led course videos.\n",
    "\n",
    "                        With more than 5,000 courses and personalized recommendations, \n",
    "                        you can discover, complete, and track courses related to your \n",
    "                        field and interests. You can also choose to add these courses \n",
    "                        and related skills to your LinkedIn profile once you've completed \n",
    "                        them.\n",
    "\n",
    "                        If you subscribe to LinkedIn Learning, you can access the entire \n",
    "                        Learning library of content, post the completed courses to your \n",
    "                        LinkedIn profile, and get recommendations based on the skills \n",
    "                        you're interested in. (See Related tasks section below.)\n",
    "\n",
    "                        To further enhance your learning experience, many of our courses \n",
    "                        come equipped with exercise files and assessments, and \n",
    "                        transcripts for the video. You can also use LinkedIn Learning to \n",
    "                        provide feedback to courses, and view and download videos offline.\n",
    "\n",
    "                    ''') \n",
    "\n",
    "print(response.choices[0].message.content)"
   ]
  }
 ],
 "metadata": {
  "kernelspec": {
   "display_name": "Python 3 (ipykernel)",
   "language": "python",
   "name": "python3"
  },
  "language_info": {
   "codemirror_mode": {
    "name": "ipython",
    "version": 3
   },
   "file_extension": ".py",
   "mimetype": "text/x-python",
   "name": "python",
   "nbconvert_exporter": "python",
   "pygments_lexer": "ipython3",
   "version": "3.8.9"
  }
 },
 "nbformat": 4,
 "nbformat_minor": 5
}
